{
 "cells": [
  {
   "cell_type": "markdown",
   "id": "091ec513",
   "metadata": {},
   "source": [
    "<div style=\" background-color:  rgba(2,1,0,0.7);\" >\n",
    "<h1 style=\"margin: auto; padding: 20px 0; color:#fff; text-align: center\">PROJET 5 DATA ANALYST</h1>\n",
    "<h2 style=\"margin: auto; padding: 20px 0; color:#fff; text-align: center\">Optimisez la gestion des données d'une boutique avec R ou Python\n",
    "</h2>\n",
    "</div>\n"
   ]
  },
  {
   "cell_type": "markdown",
   "id": "34a85809",
   "metadata": {},
   "source": [
    "**Sommaire :**\n",
    " 1. [Import des librairies et données nécessaires à l'étude ](#1.-Import-des-librairies-et-données-nécessaires-à-l'étude)\n",
    " 2. [Préparation des données source : observation et nettoyage des Dataframes ](#2.-Préparation-des-données-source-:-observation-et-nettoyage-des-Dataframes)\n",
    " 3. [Rapprocher les exports ERP et Web via Liaison  ](#3.-Rapprocher-les-exports-ERP-et-Web-via-Liaison)\n",
    " 4. [Analyse des ventes en lignes ](#3.-Analyse-des-ventes-en-lignes)"
   ]
  },
  {
   "cell_type": "markdown",
   "id": "b489b604",
   "metadata": {},
   "source": [
    "# Import des librairies et données nécessaires à l'étude:"
   ]
  },
  {
   "cell_type": "code",
   "execution_count": 226,
   "id": "a4a96a1a",
   "metadata": {},
   "outputs": [],
   "source": [
    "# Librairies de calcul\n",
    "import pandas as pd\n",
    "import numpy as np\n",
    "\n",
    "# Librairies de visualisation\n",
    "import matplotlib.pyplot as plt\n",
    "import seaborn as sns\n",
    "\n",
    "# Import des donnees\n",
    "liaison = pd.read_csv('liaison.csv')\n",
    "erp = pd.read_csv('erp.csv')\n",
    "web = pd.read_csv('web.csv')"
   ]
  },
  {
   "cell_type": "markdown",
   "id": "414292fd",
   "metadata": {},
   "source": [
    "# Observation et nettoyage des Dataframes:"
   ]
  },
  {
   "cell_type": "markdown",
   "id": "d54d5c2e",
   "metadata": {},
   "source": [
    "## Fichier de liaison:"
   ]
  },
  {
   "cell_type": "code",
   "execution_count": 87,
   "id": "f9240368",
   "metadata": {},
   "outputs": [
    {
     "data": {
      "text/plain": [
       "(825, 2)"
      ]
     },
     "execution_count": 87,
     "metadata": {},
     "output_type": "execute_result"
    }
   ],
   "source": [
    "liaison.shape"
   ]
  },
  {
   "cell_type": "code",
   "execution_count": 4,
   "id": "c8adf5be",
   "metadata": {},
   "outputs": [
    {
     "data": {
      "text/html": [
       "<div>\n",
       "<style scoped>\n",
       "    .dataframe tbody tr th:only-of-type {\n",
       "        vertical-align: middle;\n",
       "    }\n",
       "\n",
       "    .dataframe tbody tr th {\n",
       "        vertical-align: top;\n",
       "    }\n",
       "\n",
       "    .dataframe thead th {\n",
       "        text-align: right;\n",
       "    }\n",
       "</style>\n",
       "<table border=\"1\" class=\"dataframe\">\n",
       "  <thead>\n",
       "    <tr style=\"text-align: right;\">\n",
       "      <th></th>\n",
       "      <th>product_id</th>\n",
       "      <th>id_web</th>\n",
       "    </tr>\n",
       "  </thead>\n",
       "  <tbody>\n",
       "    <tr>\n",
       "      <th>0</th>\n",
       "      <td>3847</td>\n",
       "      <td>15298</td>\n",
       "    </tr>\n",
       "    <tr>\n",
       "      <th>1</th>\n",
       "      <td>3849</td>\n",
       "      <td>15296</td>\n",
       "    </tr>\n",
       "  </tbody>\n",
       "</table>\n",
       "</div>"
      ],
      "text/plain": [
       "   product_id id_web\n",
       "0        3847  15298\n",
       "1        3849  15296"
      ]
     },
     "execution_count": 4,
     "metadata": {},
     "output_type": "execute_result"
    }
   ],
   "source": [
    "liaison.head(2)"
   ]
  },
  {
   "cell_type": "code",
   "execution_count": 5,
   "id": "94d379de",
   "metadata": {},
   "outputs": [
    {
     "name": "stdout",
     "output_type": "stream",
     "text": [
      "<class 'pandas.core.frame.DataFrame'>\n",
      "RangeIndex: 825 entries, 0 to 824\n",
      "Data columns (total 2 columns):\n",
      " #   Column      Non-Null Count  Dtype \n",
      "---  ------      --------------  ----- \n",
      " 0   product_id  825 non-null    int64 \n",
      " 1   id_web      734 non-null    object\n",
      "dtypes: int64(1), object(1)\n",
      "memory usage: 13.0+ KB\n"
     ]
    }
   ],
   "source": [
    "liaison.info()"
   ]
  },
  {
   "cell_type": "markdown",
   "id": "7c1d7af8",
   "metadata": {},
   "source": [
    "Les données du fichier de liaison contiennent 825 produits et 2 variables :\n",
    "\n",
    "* \"product_id\": le code du produit issu de l'ERP;**\n",
    "\n",
    "* \"id_web\": le code du produit issu du CMS.**\n",
    "\n",
    "Nous savons que \"id_web\" correspond en fait au SKU du CMS donc nous allons renommer la colonne plus tard pour garder la cohérence avec le dataframe web.\n",
    "\n",
    "De plus, on constate que certains product_id n'ont pas de correspondance dans id_web( 91 valeurs). En fait il s'agit des références non disponibles sur le site web, ce qui correspond à \"0\" dans la colonne onsale_web d'Erp dataframe.\n",
    " \n",
    "**Ainsi que  product_id est une variable qualitative considérée comme un entier, on le veut en tant qu'objet.**"
   ]
  },
  {
   "cell_type": "code",
   "execution_count": 232,
   "id": "e1219673",
   "metadata": {},
   "outputs": [
    {
     "data": {
      "text/html": [
       "<div>\n",
       "<style scoped>\n",
       "    .dataframe tbody tr th:only-of-type {\n",
       "        vertical-align: middle;\n",
       "    }\n",
       "\n",
       "    .dataframe tbody tr th {\n",
       "        vertical-align: top;\n",
       "    }\n",
       "\n",
       "    .dataframe thead th {\n",
       "        text-align: right;\n",
       "    }\n",
       "</style>\n",
       "<table border=\"1\" class=\"dataframe\">\n",
       "  <thead>\n",
       "    <tr style=\"text-align: right;\">\n",
       "      <th></th>\n",
       "      <th>product_id</th>\n",
       "      <th>sku</th>\n",
       "    </tr>\n",
       "  </thead>\n",
       "  <tbody>\n",
       "    <tr>\n",
       "      <th>0</th>\n",
       "      <td>3847</td>\n",
       "      <td>15298</td>\n",
       "    </tr>\n",
       "    <tr>\n",
       "      <th>1</th>\n",
       "      <td>3849</td>\n",
       "      <td>15296</td>\n",
       "    </tr>\n",
       "  </tbody>\n",
       "</table>\n",
       "</div>"
      ],
      "text/plain": [
       "  product_id    sku\n",
       "0       3847  15298\n",
       "1       3849  15296"
      ]
     },
     "execution_count": 232,
     "metadata": {},
     "output_type": "execute_result"
    }
   ],
   "source": [
    "liaison = liaison.rename(columns = {'id_web':'sku'})\n",
    "liaison['product_id'] = liaison['product_id'].astype(object)\n",
    "liaison.head(2)"
   ]
  },
  {
   "cell_type": "markdown",
   "id": "4a900b1e",
   "metadata": {},
   "source": [
    "**Pour finir, nous nous assurons que les codes \"product_id\" et \"sku\" ne contiennent pas de doublons.**\n"
   ]
  },
  {
   "cell_type": "code",
   "execution_count": 7,
   "id": "449f1b8c",
   "metadata": {},
   "outputs": [
    {
     "name": "stdout",
     "output_type": "stream",
     "text": [
      "Il y a 0 doublons dans les codes produits et les SKU.\n"
     ]
    }
   ],
   "source": [
    "# Test des doublons sur le code produit et le SKU\n",
    "test_doublons = liaison.duplicated(subset=['product_id', 'sku']).sum()\n",
    "\n",
    "print(f'Il y a {test_doublons} doublons dans les codes produits et les SKU.')\n",
    "\n",
    "del test_doublons"
   ]
  },
  {
   "cell_type": "markdown",
   "id": "41aed768",
   "metadata": {},
   "source": [
    "## Export de l'ERP  :\n"
   ]
  },
  {
   "cell_type": "code",
   "execution_count": 85,
   "id": "74fbb140",
   "metadata": {},
   "outputs": [
    {
     "data": {
      "text/plain": [
       "(825, 5)"
      ]
     },
     "execution_count": 85,
     "metadata": {},
     "output_type": "execute_result"
    }
   ],
   "source": [
    "erp.shape"
   ]
  },
  {
   "cell_type": "code",
   "execution_count": 8,
   "id": "9c32343e",
   "metadata": {},
   "outputs": [
    {
     "name": "stdout",
     "output_type": "stream",
     "text": [
      "<class 'pandas.core.frame.DataFrame'>\n",
      "RangeIndex: 825 entries, 0 to 824\n",
      "Data columns (total 5 columns):\n",
      " #   Column          Non-Null Count  Dtype  \n",
      "---  ------          --------------  -----  \n",
      " 0   product_id      825 non-null    int64  \n",
      " 1   onsale_web      825 non-null    int64  \n",
      " 2   price           825 non-null    float64\n",
      " 3   stock_quantity  825 non-null    int64  \n",
      " 4   stock_status    825 non-null    object \n",
      "dtypes: float64(1), int64(3), object(1)\n",
      "memory usage: 32.4+ KB\n"
     ]
    }
   ],
   "source": [
    "erp.info()"
   ]
  },
  {
   "cell_type": "markdown",
   "id": "aca056ca",
   "metadata": {},
   "source": [
    "Les données de l'ERP contiennent 825 produits renseignés sur 5 variables nous donnant des informations sur leur code, leur disponibilité à la vente en ligne, leur prix et l'état de leur stock.\n",
    "\n",
    "Ici aucune valeur manquante, par contre :\n",
    "\n",
    "* **La variable \"product_id\" est qualitative considéré comme un int on le veut en tant qu'object, donc nous allons la convertir en objet.**\n",
    "\n",
    "* **La variable onsale_web et stock_status peuvent être considérés comme booléens (onsale_web : 1 = en vente sur le site, 0= pas en vente sur le site ; outofstock/onstock aussi) mais nous allons les conservés  telles qu'elles sont pour l'instant.**"
   ]
  },
  {
   "cell_type": "code",
   "execution_count": 233,
   "id": "e05924e9",
   "metadata": {},
   "outputs": [],
   "source": [
    "erp['product_id'] = erp['product_id'].astype(object)"
   ]
  },
  {
   "cell_type": "code",
   "execution_count": 10,
   "id": "f3395214",
   "metadata": {},
   "outputs": [
    {
     "data": {
      "text/plain": [
       "product_id        0\n",
       "onsale_web        0\n",
       "price             0\n",
       "stock_quantity    0\n",
       "stock_status      0\n",
       "dtype: int64"
      ]
     },
     "execution_count": 10,
     "metadata": {},
     "output_type": "execute_result"
    }
   ],
   "source": [
    "erp.isna().sum()"
   ]
  },
  {
   "cell_type": "markdown",
   "id": "271168e9",
   "metadata": {},
   "source": [
    "**Il n'y a pas de valeurs manquantes, on passe aux doublons.**\n"
   ]
  },
  {
   "cell_type": "code",
   "execution_count": 11,
   "id": "5d345629",
   "metadata": {},
   "outputs": [
    {
     "name": "stdout",
     "output_type": "stream",
     "text": [
      "Il y a 0 doublons dans les codes produits.\n"
     ]
    }
   ],
   "source": [
    "#Test des doublons sur le product_id\n",
    "test_doublons = erp.duplicated(subset=['product_id']).sum()\n",
    "\n",
    "print(f'Il y a {test_doublons} doublons dans les codes produits.')\n",
    "\n",
    "del test_doublons"
   ]
  },
  {
   "cell_type": "markdown",
   "id": "859736eb",
   "metadata": {},
   "source": [
    "## Export du CMS :"
   ]
  },
  {
   "cell_type": "code",
   "execution_count": 83,
   "id": "62ae0b97",
   "metadata": {},
   "outputs": [
    {
     "data": {
      "text/html": [
       "<div>\n",
       "<style scoped>\n",
       "    .dataframe tbody tr th:only-of-type {\n",
       "        vertical-align: middle;\n",
       "    }\n",
       "\n",
       "    .dataframe tbody tr th {\n",
       "        vertical-align: top;\n",
       "    }\n",
       "\n",
       "    .dataframe thead th {\n",
       "        text-align: right;\n",
       "    }\n",
       "</style>\n",
       "<table border=\"1\" class=\"dataframe\">\n",
       "  <thead>\n",
       "    <tr style=\"text-align: right;\">\n",
       "      <th></th>\n",
       "      <th>sku</th>\n",
       "      <th>virtual</th>\n",
       "      <th>downloadable</th>\n",
       "      <th>rating_count</th>\n",
       "      <th>average_rating</th>\n",
       "      <th>total_sales</th>\n",
       "      <th>tax_status</th>\n",
       "      <th>tax_class</th>\n",
       "      <th>post_author</th>\n",
       "      <th>post_date</th>\n",
       "      <th>...</th>\n",
       "      <th>post_name</th>\n",
       "      <th>post_modified</th>\n",
       "      <th>post_modified_gmt</th>\n",
       "      <th>post_content_filtered</th>\n",
       "      <th>post_parent</th>\n",
       "      <th>guid</th>\n",
       "      <th>menu_order</th>\n",
       "      <th>post_type</th>\n",
       "      <th>post_mime_type</th>\n",
       "      <th>comment_count</th>\n",
       "    </tr>\n",
       "  </thead>\n",
       "  <tbody>\n",
       "    <tr>\n",
       "      <th>0</th>\n",
       "      <td>16004</td>\n",
       "      <td>0</td>\n",
       "      <td>0</td>\n",
       "      <td>0</td>\n",
       "      <td>0.0</td>\n",
       "      <td>5.0</td>\n",
       "      <td>NaN</td>\n",
       "      <td>NaN</td>\n",
       "      <td>2.0</td>\n",
       "      <td>2018-06-07 16:27:25</td>\n",
       "      <td>...</td>\n",
       "      <td>chateau-du-couvent-pomerol-2017</td>\n",
       "      <td>2020-08-25 18:35:02</td>\n",
       "      <td>2020-08-25 16:35:02</td>\n",
       "      <td>NaN</td>\n",
       "      <td>0.0</td>\n",
       "      <td>https://www.bottle-neck.fr/wp-content/uploads/...</td>\n",
       "      <td>0.0</td>\n",
       "      <td>attachment</td>\n",
       "      <td>image/jpeg</td>\n",
       "      <td>0.0</td>\n",
       "    </tr>\n",
       "    <tr>\n",
       "      <th>1</th>\n",
       "      <td>NaN</td>\n",
       "      <td>0</td>\n",
       "      <td>0</td>\n",
       "      <td>0</td>\n",
       "      <td>NaN</td>\n",
       "      <td>NaN</td>\n",
       "      <td>NaN</td>\n",
       "      <td>NaN</td>\n",
       "      <td>NaN</td>\n",
       "      <td>NaN</td>\n",
       "      <td>...</td>\n",
       "      <td>NaN</td>\n",
       "      <td>NaN</td>\n",
       "      <td>NaN</td>\n",
       "      <td>NaN</td>\n",
       "      <td>NaN</td>\n",
       "      <td>NaN</td>\n",
       "      <td>NaN</td>\n",
       "      <td>NaN</td>\n",
       "      <td>NaN</td>\n",
       "      <td>NaN</td>\n",
       "    </tr>\n",
       "  </tbody>\n",
       "</table>\n",
       "<p>2 rows × 28 columns</p>\n",
       "</div>"
      ],
      "text/plain": [
       "     sku  virtual  downloadable  rating_count  average_rating  total_sales  \\\n",
       "0  16004        0             0             0             0.0          5.0   \n",
       "1    NaN        0             0             0             NaN          NaN   \n",
       "\n",
       "  tax_status  tax_class  post_author            post_date  ...  \\\n",
       "0        NaN        NaN          2.0  2018-06-07 16:27:25  ...   \n",
       "1        NaN        NaN          NaN                  NaN  ...   \n",
       "\n",
       "                         post_name        post_modified    post_modified_gmt  \\\n",
       "0  chateau-du-couvent-pomerol-2017  2020-08-25 18:35:02  2020-08-25 16:35:02   \n",
       "1                              NaN                  NaN                  NaN   \n",
       "\n",
       "  post_content_filtered post_parent  \\\n",
       "0                   NaN         0.0   \n",
       "1                   NaN         NaN   \n",
       "\n",
       "                                                guid menu_order   post_type  \\\n",
       "0  https://www.bottle-neck.fr/wp-content/uploads/...        0.0  attachment   \n",
       "1                                                NaN        NaN         NaN   \n",
       "\n",
       "  post_mime_type comment_count  \n",
       "0     image/jpeg           0.0  \n",
       "1            NaN           NaN  \n",
       "\n",
       "[2 rows x 28 columns]"
      ]
     },
     "execution_count": 83,
     "metadata": {},
     "output_type": "execute_result"
    }
   ],
   "source": [
    "web.head(2)"
   ]
  },
  {
   "cell_type": "code",
   "execution_count": 84,
   "id": "3c45cef1",
   "metadata": {},
   "outputs": [
    {
     "data": {
      "text/plain": [
       "(1513, 28)"
      ]
     },
     "execution_count": 84,
     "metadata": {},
     "output_type": "execute_result"
    }
   ],
   "source": [
    "web.shape"
   ]
  },
  {
   "cell_type": "code",
   "execution_count": 13,
   "id": "dada4902",
   "metadata": {},
   "outputs": [
    {
     "name": "stdout",
     "output_type": "stream",
     "text": [
      "<class 'pandas.core.frame.DataFrame'>\n",
      "RangeIndex: 1513 entries, 0 to 1512\n",
      "Data columns (total 28 columns):\n",
      " #   Column                 Non-Null Count  Dtype  \n",
      "---  ------                 --------------  -----  \n",
      " 0   sku                    1428 non-null   object \n",
      " 1   virtual                1513 non-null   int64  \n",
      " 2   downloadable           1513 non-null   int64  \n",
      " 3   rating_count           1513 non-null   int64  \n",
      " 4   average_rating         1430 non-null   float64\n",
      " 5   total_sales            1430 non-null   float64\n",
      " 6   tax_status             716 non-null    object \n",
      " 7   tax_class              0 non-null      float64\n",
      " 8   post_author            1430 non-null   float64\n",
      " 9   post_date              1430 non-null   object \n",
      " 10  post_date_gmt          1430 non-null   object \n",
      " 11  post_content           0 non-null      float64\n",
      " 12  post_title             1430 non-null   object \n",
      " 13  post_excerpt           716 non-null    object \n",
      " 14  post_status            1430 non-null   object \n",
      " 15  comment_status         1430 non-null   object \n",
      " 16  ping_status            1430 non-null   object \n",
      " 17  post_password          0 non-null      float64\n",
      " 18  post_name              1430 non-null   object \n",
      " 19  post_modified          1430 non-null   object \n",
      " 20  post_modified_gmt      1430 non-null   object \n",
      " 21  post_content_filtered  0 non-null      float64\n",
      " 22  post_parent            1430 non-null   float64\n",
      " 23  guid                   1430 non-null   object \n",
      " 24  menu_order             1430 non-null   float64\n",
      " 25  post_type              1430 non-null   object \n",
      " 26  post_mime_type         714 non-null    object \n",
      " 27  comment_count          1430 non-null   float64\n",
      "dtypes: float64(10), int64(3), object(15)\n",
      "memory usage: 331.1+ KB\n"
     ]
    }
   ],
   "source": [
    "web.info()"
   ]
  },
  {
   "cell_type": "markdown",
   "id": "9e884d30",
   "metadata": {},
   "source": [
    "Les données du CMS contiennent 1513 produits avec 28 variables :\n",
    "\n",
    "   * Le nombre de produits disponibles en ligne est largement supérieur au nombre de produits dans le DataFrame erp.\n",
    "\n",
    "   * Les variables sont nombreuses, mais beaucoup semblent vides ou ne semblent comporter que des 0.\n",
    "   \n",
    "Ici on a beaucoup de colonnes qui posent potentiellement problème, des variables dont on ne sait pas à quoi elles correspondent exactement et il est difficile de savoir de quel type elles devraient être.\n",
    "\n",
    "* **post_date, post_date_gmt, post_modified et post_modified_gmt sont des datetimes et non des object.**\n",
    "* virtual, downlodable, rating_count, average_rating, post_parent, menu_order et comment_count sont toujours vides ou égales à zéro, sont elles vraiment utiles ? Nous les gardons pour le moment. Idem taxe_class, post_content, post_password et post_content_filtered sont toujours vides.\n",
    "* Post_status comment_status, ping_status, post_type et post_mime_type sont comme précédemment des booléens en quelque sorte mais restent pour l'instant des object, il peut être intéressant à l'avenir de les modifier selon leur importance.\n",
    "* **post_author n'est pas un float mais un object.**"
   ]
  },
  {
   "cell_type": "code",
   "execution_count": 234,
   "id": "0a99ec2c",
   "metadata": {},
   "outputs": [],
   "source": [
    "web[\"post_date\"] = pd.to_datetime(web[\"post_date\"], yearfirst= True)\n",
    "web[\"post_date_gmt\"] = pd.to_datetime(web[\"post_date_gmt\"], yearfirst= True)\n",
    "web[\"post_modified\"] = pd.to_datetime(web[\"post_modified\"], yearfirst= True)\n",
    "web[\"post_modified_gmt\"] = pd.to_datetime(web[\"post_modified_gmt\"], yearfirst= True)\n",
    "web['post_author'] = web['post_author'].astype(object)"
   ]
  },
  {
   "cell_type": "markdown",
   "id": "3fd62d17",
   "metadata": {},
   "source": [
    "**checker les doublons dans les codes \"sku\".**"
   ]
  },
  {
   "cell_type": "code",
   "execution_count": 30,
   "id": "db3a806e",
   "metadata": {},
   "outputs": [
    {
     "name": "stdout",
     "output_type": "stream",
     "text": [
      "Il y a 798 doublons dans les codes sku.\n"
     ]
    }
   ],
   "source": [
    "#Test des doublons sur le sku\n",
    "test_doublons = web.duplicated(subset=['sku']).sum()\n",
    "\n",
    "print(f'Il y a {test_doublons} doublons dans les codes sku.')\n",
    "\n",
    "del test_doublons"
   ]
  },
  {
   "cell_type": "markdown",
   "id": "6115007d",
   "metadata": {},
   "source": [
    "**On constate  qu'il y a 798 doublons. C'est dû au fait que l'export original CMS comporte pour chaque produit deux lignes, une pour le produit vendu et la deuxième pour les fichiers attachés au produit(images,jpeg).**"
   ]
  },
  {
   "cell_type": "markdown",
   "id": "906e9bb6",
   "metadata": {},
   "source": [
    "# Rapprocher les exports ERP et Web via Liaison:\n"
   ]
  },
  {
   "cell_type": "markdown",
   "id": "79934024",
   "metadata": {},
   "source": [
    "Il s'agit de faire une jointure, il fautre prendre en compte le fait que les product_id des ERP n'aient pas toujours une correspondance dans les sku des exports Web. Donc le regroupement des données va être effectué dans un nouveau DataFrame que nous appellerons df_final. Cela va se passer en deux étapes:\n",
    "\n",
    "* **Une jointure Erp/Liaison entre l'ERP et liaison, avec product_Id en clé (on a le même nombre de product_id).**\n",
    "\n",
    "* **regroupement du DataFrame intermédiaire obtenu avec les données du CMS (web) via la fonction merge (right) pour rapprocher les lignes désignées par un sku tout en conservant tous les produits, on utilise en clé les sku du dernier dataframe (intermdeaire).**"
   ]
  },
  {
   "cell_type": "code",
   "execution_count": 235,
   "id": "d5e97e0a",
   "metadata": {},
   "outputs": [
    {
     "data": {
      "text/html": [
       "<div>\n",
       "<style scoped>\n",
       "    .dataframe tbody tr th:only-of-type {\n",
       "        vertical-align: middle;\n",
       "    }\n",
       "\n",
       "    .dataframe tbody tr th {\n",
       "        vertical-align: top;\n",
       "    }\n",
       "\n",
       "    .dataframe thead th {\n",
       "        text-align: right;\n",
       "    }\n",
       "</style>\n",
       "<table border=\"1\" class=\"dataframe\">\n",
       "  <thead>\n",
       "    <tr style=\"text-align: right;\">\n",
       "      <th></th>\n",
       "      <th>product_id</th>\n",
       "      <th>onsale_web</th>\n",
       "      <th>price</th>\n",
       "      <th>stock_quantity</th>\n",
       "      <th>stock_status</th>\n",
       "      <th>sku</th>\n",
       "    </tr>\n",
       "  </thead>\n",
       "  <tbody>\n",
       "    <tr>\n",
       "      <th>0</th>\n",
       "      <td>3847</td>\n",
       "      <td>1</td>\n",
       "      <td>24.2</td>\n",
       "      <td>0</td>\n",
       "      <td>outofstock</td>\n",
       "      <td>15298</td>\n",
       "    </tr>\n",
       "    <tr>\n",
       "      <th>1</th>\n",
       "      <td>3849</td>\n",
       "      <td>1</td>\n",
       "      <td>34.3</td>\n",
       "      <td>0</td>\n",
       "      <td>outofstock</td>\n",
       "      <td>15296</td>\n",
       "    </tr>\n",
       "    <tr>\n",
       "      <th>2</th>\n",
       "      <td>3850</td>\n",
       "      <td>1</td>\n",
       "      <td>20.8</td>\n",
       "      <td>0</td>\n",
       "      <td>outofstock</td>\n",
       "      <td>15300</td>\n",
       "    </tr>\n",
       "  </tbody>\n",
       "</table>\n",
       "</div>"
      ],
      "text/plain": [
       "  product_id  onsale_web  price  stock_quantity stock_status    sku\n",
       "0       3847           1   24.2               0   outofstock  15298\n",
       "1       3849           1   34.3               0   outofstock  15296\n",
       "2       3850           1   20.8               0   outofstock  15300"
      ]
     },
     "execution_count": 235,
     "metadata": {},
     "output_type": "execute_result"
    }
   ],
   "source": [
    "#On merge (inner : une jointure interne) erp et liaison dans un dataframe intermediaire:\n",
    "intermediaire = pd.merge(erp, liaison, on=[\"product_id\"])\n",
    "intermediaire.head(3)"
   ]
  },
  {
   "cell_type": "code",
   "execution_count": 89,
   "id": "5b1df98c",
   "metadata": {},
   "outputs": [
    {
     "data": {
      "text/plain": [
       "(825, 6)"
      ]
     },
     "execution_count": 89,
     "metadata": {},
     "output_type": "execute_result"
    }
   ],
   "source": [
    "intermediaire.shape"
   ]
  },
  {
   "cell_type": "markdown",
   "id": "a72be255",
   "metadata": {},
   "source": [
    "La première jointure s'est correctement déroulé. Voyons les valeurs manquantes."
   ]
  },
  {
   "cell_type": "code",
   "execution_count": 115,
   "id": "4e3dc4f4",
   "metadata": {},
   "outputs": [
    {
     "data": {
      "text/plain": [
       "product_id         0\n",
       "onsale_web         0\n",
       "price              0\n",
       "stock_quantity     0\n",
       "stock_status       0\n",
       "sku               91\n",
       "dtype: int64"
      ]
     },
     "execution_count": 115,
     "metadata": {},
     "output_type": "execute_result"
    }
   ],
   "source": [
    "intermediaire.isna().sum()"
   ]
  },
  {
   "cell_type": "markdown",
   "id": "8a005778",
   "metadata": {},
   "source": [
    "Il manque 91 valeurs dans \"sku\" ce qui est logique puisque qu'il manquait 91 correspondances dans le fichier de liaison d'origine.Les produits concernés ne pourront pas être rapprochés de leur(s) vente(s), il est donc inutile de les conserver."
   ]
  },
  {
   "cell_type": "code",
   "execution_count": 236,
   "id": "89a12bd7",
   "metadata": {},
   "outputs": [
    {
     "data": {
      "text/plain": [
       "(734, 6)"
      ]
     },
     "execution_count": 236,
     "metadata": {},
     "output_type": "execute_result"
    }
   ],
   "source": [
    "#Suppression des lingnes \"nan\" sku\n",
    "intermediaire = intermediaire.dropna(subset=['sku'])\n",
    "intermediaire.shape"
   ]
  },
  {
   "cell_type": "markdown",
   "id": "8a1dd7cc",
   "metadata": {},
   "source": [
    "On passe à la deuxième jointure."
   ]
  },
  {
   "cell_type": "code",
   "execution_count": 237,
   "id": "bf022fe7",
   "metadata": {},
   "outputs": [
    {
     "data": {
      "text/html": [
       "<div>\n",
       "<style scoped>\n",
       "    .dataframe tbody tr th:only-of-type {\n",
       "        vertical-align: middle;\n",
       "    }\n",
       "\n",
       "    .dataframe tbody tr th {\n",
       "        vertical-align: top;\n",
       "    }\n",
       "\n",
       "    .dataframe thead th {\n",
       "        text-align: right;\n",
       "    }\n",
       "</style>\n",
       "<table border=\"1\" class=\"dataframe\">\n",
       "  <thead>\n",
       "    <tr style=\"text-align: right;\">\n",
       "      <th></th>\n",
       "      <th>product_id</th>\n",
       "      <th>onsale_web</th>\n",
       "      <th>price</th>\n",
       "      <th>stock_quantity</th>\n",
       "      <th>stock_status</th>\n",
       "      <th>sku</th>\n",
       "      <th>virtual</th>\n",
       "      <th>downloadable</th>\n",
       "      <th>rating_count</th>\n",
       "      <th>average_rating</th>\n",
       "      <th>...</th>\n",
       "      <th>post_name</th>\n",
       "      <th>post_modified</th>\n",
       "      <th>post_modified_gmt</th>\n",
       "      <th>post_content_filtered</th>\n",
       "      <th>post_parent</th>\n",
       "      <th>guid</th>\n",
       "      <th>menu_order</th>\n",
       "      <th>post_type</th>\n",
       "      <th>post_mime_type</th>\n",
       "      <th>comment_count</th>\n",
       "    </tr>\n",
       "  </thead>\n",
       "  <tbody>\n",
       "    <tr>\n",
       "      <th>0</th>\n",
       "      <td>4974</td>\n",
       "      <td>1.0</td>\n",
       "      <td>23.0</td>\n",
       "      <td>2.0</td>\n",
       "      <td>instock</td>\n",
       "      <td>16004</td>\n",
       "      <td>0</td>\n",
       "      <td>0</td>\n",
       "      <td>0</td>\n",
       "      <td>0.0</td>\n",
       "      <td>...</td>\n",
       "      <td>chateau-du-couvent-pomerol-2017</td>\n",
       "      <td>2020-08-25 18:35:02</td>\n",
       "      <td>2020-08-25 16:35:02</td>\n",
       "      <td>NaN</td>\n",
       "      <td>0.0</td>\n",
       "      <td>https://www.bottle-neck.fr/wp-content/uploads/...</td>\n",
       "      <td>0.0</td>\n",
       "      <td>attachment</td>\n",
       "      <td>image/jpeg</td>\n",
       "      <td>0.0</td>\n",
       "    </tr>\n",
       "    <tr>\n",
       "      <th>1</th>\n",
       "      <td>NaN</td>\n",
       "      <td>NaN</td>\n",
       "      <td>NaN</td>\n",
       "      <td>NaN</td>\n",
       "      <td>NaN</td>\n",
       "      <td>NaN</td>\n",
       "      <td>0</td>\n",
       "      <td>0</td>\n",
       "      <td>0</td>\n",
       "      <td>NaN</td>\n",
       "      <td>...</td>\n",
       "      <td>NaN</td>\n",
       "      <td>NaT</td>\n",
       "      <td>NaT</td>\n",
       "      <td>NaN</td>\n",
       "      <td>NaN</td>\n",
       "      <td>NaN</td>\n",
       "      <td>NaN</td>\n",
       "      <td>NaN</td>\n",
       "      <td>NaN</td>\n",
       "      <td>NaN</td>\n",
       "    </tr>\n",
       "    <tr>\n",
       "      <th>2</th>\n",
       "      <td>4165</td>\n",
       "      <td>1.0</td>\n",
       "      <td>12.0</td>\n",
       "      <td>57.0</td>\n",
       "      <td>instock</td>\n",
       "      <td>15075</td>\n",
       "      <td>0</td>\n",
       "      <td>0</td>\n",
       "      <td>0</td>\n",
       "      <td>0.0</td>\n",
       "      <td>...</td>\n",
       "      <td>pares-balta-penedes-indigena-2017</td>\n",
       "      <td>2020-08-20 15:35:02</td>\n",
       "      <td>2020-08-20 13:35:02</td>\n",
       "      <td>NaN</td>\n",
       "      <td>0.0</td>\n",
       "      <td>https://www.bottle-neck.fr/?post_type=product&amp;...</td>\n",
       "      <td>0.0</td>\n",
       "      <td>product</td>\n",
       "      <td>NaN</td>\n",
       "      <td>0.0</td>\n",
       "    </tr>\n",
       "  </tbody>\n",
       "</table>\n",
       "<p>3 rows × 33 columns</p>\n",
       "</div>"
      ],
      "text/plain": [
       "  product_id  onsale_web  price  stock_quantity stock_status    sku  virtual  \\\n",
       "0       4974         1.0   23.0             2.0      instock  16004        0   \n",
       "1        NaN         NaN    NaN             NaN          NaN    NaN        0   \n",
       "2       4165         1.0   12.0            57.0      instock  15075        0   \n",
       "\n",
       "   downloadable  rating_count  average_rating  ...  \\\n",
       "0             0             0             0.0  ...   \n",
       "1             0             0             NaN  ...   \n",
       "2             0             0             0.0  ...   \n",
       "\n",
       "                           post_name       post_modified   post_modified_gmt  \\\n",
       "0    chateau-du-couvent-pomerol-2017 2020-08-25 18:35:02 2020-08-25 16:35:02   \n",
       "1                                NaN                 NaT                 NaT   \n",
       "2  pares-balta-penedes-indigena-2017 2020-08-20 15:35:02 2020-08-20 13:35:02   \n",
       "\n",
       "  post_content_filtered post_parent  \\\n",
       "0                   NaN         0.0   \n",
       "1                   NaN         NaN   \n",
       "2                   NaN         0.0   \n",
       "\n",
       "                                                guid  menu_order   post_type  \\\n",
       "0  https://www.bottle-neck.fr/wp-content/uploads/...         0.0  attachment   \n",
       "1                                                NaN         NaN         NaN   \n",
       "2  https://www.bottle-neck.fr/?post_type=product&...         0.0     product   \n",
       "\n",
       "  post_mime_type comment_count  \n",
       "0     image/jpeg           0.0  \n",
       "1            NaN           NaN  \n",
       "2            NaN           0.0  \n",
       "\n",
       "[3 rows x 33 columns]"
      ]
     },
     "execution_count": 237,
     "metadata": {},
     "output_type": "execute_result"
    }
   ],
   "source": [
    "#une jointure par la droite pour rapprocher les lignes désignées par un sku tout en conservant tous les produits\n",
    "df_final = pd.merge(intermediaire, web, how=\"right\",on=[\"sku\"])\n",
    "df_final.head(3)"
   ]
  },
  {
   "cell_type": "code",
   "execution_count": 118,
   "id": "bc805f3f",
   "metadata": {},
   "outputs": [
    {
     "data": {
      "text/plain": [
       "(1513, 33)"
      ]
     },
     "execution_count": 118,
     "metadata": {},
     "output_type": "execute_result"
    }
   ],
   "source": [
    "df_final.shape"
   ]
  },
  {
   "cell_type": "markdown",
   "id": "070edcea",
   "metadata": {},
   "source": [
    "Donc, la deuxième jointure s'est correctement déroulé."
   ]
  },
  {
   "cell_type": "markdown",
   "id": "237a41ae",
   "metadata": {},
   "source": [
    "**Maintenant, il fallait enlever les attachements des postes type images/jpeg. On ne garde que les articles pour pouvoir passer à l'étape suivante du calcul du chiffre d'affaires.**"
   ]
  },
  {
   "cell_type": "code",
   "execution_count": 238,
   "id": "93039316",
   "metadata": {},
   "outputs": [],
   "source": [
    "df_final = df_final[df_final[\"post_type\"]==\"product\"]"
   ]
  },
  {
   "cell_type": "code",
   "execution_count": 241,
   "id": "773adf68",
   "metadata": {},
   "outputs": [
    {
     "data": {
      "text/html": [
       "<div>\n",
       "<style scoped>\n",
       "    .dataframe tbody tr th:only-of-type {\n",
       "        vertical-align: middle;\n",
       "    }\n",
       "\n",
       "    .dataframe tbody tr th {\n",
       "        vertical-align: top;\n",
       "    }\n",
       "\n",
       "    .dataframe thead th {\n",
       "        text-align: right;\n",
       "    }\n",
       "</style>\n",
       "<table border=\"1\" class=\"dataframe\">\n",
       "  <thead>\n",
       "    <tr style=\"text-align: right;\">\n",
       "      <th></th>\n",
       "      <th>product_id</th>\n",
       "      <th>onsale_web</th>\n",
       "      <th>price</th>\n",
       "      <th>stock_quantity</th>\n",
       "      <th>stock_status</th>\n",
       "      <th>sku</th>\n",
       "      <th>virtual</th>\n",
       "      <th>downloadable</th>\n",
       "      <th>rating_count</th>\n",
       "      <th>average_rating</th>\n",
       "      <th>...</th>\n",
       "      <th>post_name</th>\n",
       "      <th>post_modified</th>\n",
       "      <th>post_modified_gmt</th>\n",
       "      <th>post_content_filtered</th>\n",
       "      <th>post_parent</th>\n",
       "      <th>guid</th>\n",
       "      <th>menu_order</th>\n",
       "      <th>post_type</th>\n",
       "      <th>post_mime_type</th>\n",
       "      <th>comment_count</th>\n",
       "    </tr>\n",
       "  </thead>\n",
       "  <tbody>\n",
       "    <tr>\n",
       "      <th>2</th>\n",
       "      <td>4165</td>\n",
       "      <td>1.0</td>\n",
       "      <td>12.0</td>\n",
       "      <td>57.0</td>\n",
       "      <td>instock</td>\n",
       "      <td>15075</td>\n",
       "      <td>0</td>\n",
       "      <td>0</td>\n",
       "      <td>0</td>\n",
       "      <td>0.0</td>\n",
       "      <td>...</td>\n",
       "      <td>pares-balta-penedes-indigena-2017</td>\n",
       "      <td>2020-08-20 15:35:02</td>\n",
       "      <td>2020-08-20 13:35:02</td>\n",
       "      <td>NaN</td>\n",
       "      <td>0.0</td>\n",
       "      <td>https://www.bottle-neck.fr/?post_type=product&amp;...</td>\n",
       "      <td>0.0</td>\n",
       "      <td>product</td>\n",
       "      <td>NaN</td>\n",
       "      <td>0.0</td>\n",
       "    </tr>\n",
       "    <tr>\n",
       "      <th>3</th>\n",
       "      <td>4174</td>\n",
       "      <td>1.0</td>\n",
       "      <td>5.7</td>\n",
       "      <td>94.0</td>\n",
       "      <td>instock</td>\n",
       "      <td>16209</td>\n",
       "      <td>0</td>\n",
       "      <td>0</td>\n",
       "      <td>0</td>\n",
       "      <td>0.0</td>\n",
       "      <td>...</td>\n",
       "      <td>maurel-cabardes-tradition-2017</td>\n",
       "      <td>2020-08-05 18:05:03</td>\n",
       "      <td>2020-08-05 16:05:03</td>\n",
       "      <td>NaN</td>\n",
       "      <td>0.0</td>\n",
       "      <td>https://www.bottle-neck.fr/?post_type=product&amp;...</td>\n",
       "      <td>0.0</td>\n",
       "      <td>product</td>\n",
       "      <td>NaN</td>\n",
       "      <td>0.0</td>\n",
       "    </tr>\n",
       "    <tr>\n",
       "      <th>5</th>\n",
       "      <td>5796</td>\n",
       "      <td>1.0</td>\n",
       "      <td>12.5</td>\n",
       "      <td>12.0</td>\n",
       "      <td>instock</td>\n",
       "      <td>13895</td>\n",
       "      <td>0</td>\n",
       "      <td>0</td>\n",
       "      <td>0</td>\n",
       "      <td>0.0</td>\n",
       "      <td>...</td>\n",
       "      <td>chateau-saransot-dupre-bordeaux-blanc-2016</td>\n",
       "      <td>2020-04-25 21:11:40</td>\n",
       "      <td>2020-04-25 19:11:40</td>\n",
       "      <td>NaN</td>\n",
       "      <td>0.0</td>\n",
       "      <td>https://www.bottle-neck.fr/?post_type=product&amp;...</td>\n",
       "      <td>0.0</td>\n",
       "      <td>product</td>\n",
       "      <td>NaN</td>\n",
       "      <td>0.0</td>\n",
       "    </tr>\n",
       "    <tr>\n",
       "      <th>6</th>\n",
       "      <td>4582</td>\n",
       "      <td>1.0</td>\n",
       "      <td>109.6</td>\n",
       "      <td>7.0</td>\n",
       "      <td>instock</td>\n",
       "      <td>12857</td>\n",
       "      <td>0</td>\n",
       "      <td>0</td>\n",
       "      <td>0</td>\n",
       "      <td>0.0</td>\n",
       "      <td>...</td>\n",
       "      <td>chateau-de-puligny-montrachet-1cru-champ-canet...</td>\n",
       "      <td>2020-02-06 16:35:02</td>\n",
       "      <td>2020-02-06 15:35:02</td>\n",
       "      <td>NaN</td>\n",
       "      <td>0.0</td>\n",
       "      <td>https://www.bottle-neck.fr/?post_type=product&amp;...</td>\n",
       "      <td>0.0</td>\n",
       "      <td>product</td>\n",
       "      <td>NaN</td>\n",
       "      <td>0.0</td>\n",
       "    </tr>\n",
       "    <tr>\n",
       "      <th>9</th>\n",
       "      <td>6106</td>\n",
       "      <td>1.0</td>\n",
       "      <td>74.8</td>\n",
       "      <td>15.0</td>\n",
       "      <td>instock</td>\n",
       "      <td>14106</td>\n",
       "      <td>0</td>\n",
       "      <td>0</td>\n",
       "      <td>0</td>\n",
       "      <td>0.0</td>\n",
       "      <td>...</td>\n",
       "      <td>stephane-tissot-chateau-chalon-2011</td>\n",
       "      <td>2020-05-29 17:35:03</td>\n",
       "      <td>2020-05-29 15:35:03</td>\n",
       "      <td>NaN</td>\n",
       "      <td>0.0</td>\n",
       "      <td>https://www.bottle-neck.fr/?post_type=product&amp;...</td>\n",
       "      <td>0.0</td>\n",
       "      <td>product</td>\n",
       "      <td>NaN</td>\n",
       "      <td>0.0</td>\n",
       "    </tr>\n",
       "    <tr>\n",
       "      <th>...</th>\n",
       "      <td>...</td>\n",
       "      <td>...</td>\n",
       "      <td>...</td>\n",
       "      <td>...</td>\n",
       "      <td>...</td>\n",
       "      <td>...</td>\n",
       "      <td>...</td>\n",
       "      <td>...</td>\n",
       "      <td>...</td>\n",
       "      <td>...</td>\n",
       "      <td>...</td>\n",
       "      <td>...</td>\n",
       "      <td>...</td>\n",
       "      <td>...</td>\n",
       "      <td>...</td>\n",
       "      <td>...</td>\n",
       "      <td>...</td>\n",
       "      <td>...</td>\n",
       "      <td>...</td>\n",
       "      <td>...</td>\n",
       "      <td>...</td>\n",
       "    </tr>\n",
       "    <tr>\n",
       "      <th>1501</th>\n",
       "      <td>4074</td>\n",
       "      <td>1.0</td>\n",
       "      <td>12.7</td>\n",
       "      <td>50.0</td>\n",
       "      <td>instock</td>\n",
       "      <td>15941</td>\n",
       "      <td>0</td>\n",
       "      <td>0</td>\n",
       "      <td>0</td>\n",
       "      <td>0.0</td>\n",
       "      <td>...</td>\n",
       "      <td>jerome-cotes-du-rhone-2018</td>\n",
       "      <td>2020-06-25 14:00:03</td>\n",
       "      <td>2020-06-25 12:00:03</td>\n",
       "      <td>NaN</td>\n",
       "      <td>0.0</td>\n",
       "      <td>https://www.bottle-neck.fr/?post_type=product&amp;...</td>\n",
       "      <td>0.0</td>\n",
       "      <td>product</td>\n",
       "      <td>NaN</td>\n",
       "      <td>0.0</td>\n",
       "    </tr>\n",
       "    <tr>\n",
       "      <th>1503</th>\n",
       "      <td>4617</td>\n",
       "      <td>1.0</td>\n",
       "      <td>67.5</td>\n",
       "      <td>1.0</td>\n",
       "      <td>instock</td>\n",
       "      <td>10459</td>\n",
       "      <td>0</td>\n",
       "      <td>0</td>\n",
       "      <td>0</td>\n",
       "      <td>0.0</td>\n",
       "      <td>...</td>\n",
       "      <td>alphonse-mellot-sancerre-rouge-generation-xix-...</td>\n",
       "      <td>2020-08-24 14:05:02</td>\n",
       "      <td>2020-08-24 12:05:02</td>\n",
       "      <td>NaN</td>\n",
       "      <td>0.0</td>\n",
       "      <td>https://www.bottle-neck.fr/?post_type=product&amp;...</td>\n",
       "      <td>0.0</td>\n",
       "      <td>product</td>\n",
       "      <td>NaN</td>\n",
       "      <td>0.0</td>\n",
       "    </tr>\n",
       "    <tr>\n",
       "      <th>1507</th>\n",
       "      <td>4062</td>\n",
       "      <td>1.0</td>\n",
       "      <td>11.9</td>\n",
       "      <td>60.0</td>\n",
       "      <td>instock</td>\n",
       "      <td>16320</td>\n",
       "      <td>0</td>\n",
       "      <td>0</td>\n",
       "      <td>0</td>\n",
       "      <td>0.0</td>\n",
       "      <td>...</td>\n",
       "      <td>mourgues-du-gres-costieres-de-nimes-terre-darg...</td>\n",
       "      <td>2020-08-25 11:15:03</td>\n",
       "      <td>2020-08-25 09:15:03</td>\n",
       "      <td>NaN</td>\n",
       "      <td>0.0</td>\n",
       "      <td>https://www.bottle-neck.fr/?post_type=product&amp;...</td>\n",
       "      <td>0.0</td>\n",
       "      <td>product</td>\n",
       "      <td>NaN</td>\n",
       "      <td>0.0</td>\n",
       "    </tr>\n",
       "    <tr>\n",
       "      <th>1509</th>\n",
       "      <td>4262</td>\n",
       "      <td>1.0</td>\n",
       "      <td>15.8</td>\n",
       "      <td>35.0</td>\n",
       "      <td>instock</td>\n",
       "      <td>15663</td>\n",
       "      <td>0</td>\n",
       "      <td>0</td>\n",
       "      <td>0</td>\n",
       "      <td>0.0</td>\n",
       "      <td>...</td>\n",
       "      <td>chermette-domaine-du-vissoux-brouilly-pierreux...</td>\n",
       "      <td>2020-08-01 09:35:02</td>\n",
       "      <td>2020-08-01 07:35:02</td>\n",
       "      <td>NaN</td>\n",
       "      <td>0.0</td>\n",
       "      <td>https://www.bottle-neck.fr/?post_type=product&amp;...</td>\n",
       "      <td>0.0</td>\n",
       "      <td>product</td>\n",
       "      <td>NaN</td>\n",
       "      <td>0.0</td>\n",
       "    </tr>\n",
       "    <tr>\n",
       "      <th>1510</th>\n",
       "      <td>5896</td>\n",
       "      <td>1.0</td>\n",
       "      <td>24.7</td>\n",
       "      <td>17.0</td>\n",
       "      <td>instock</td>\n",
       "      <td>15910</td>\n",
       "      <td>0</td>\n",
       "      <td>0</td>\n",
       "      <td>0</td>\n",
       "      <td>0.0</td>\n",
       "      <td>...</td>\n",
       "      <td>thevenet-quintaine-vire-clesse-la-bongran-2015</td>\n",
       "      <td>2020-08-14 10:45:02</td>\n",
       "      <td>2020-08-14 08:45:02</td>\n",
       "      <td>NaN</td>\n",
       "      <td>0.0</td>\n",
       "      <td>https://www.bottle-neck.fr/?post_type=product&amp;...</td>\n",
       "      <td>0.0</td>\n",
       "      <td>product</td>\n",
       "      <td>NaN</td>\n",
       "      <td>0.0</td>\n",
       "    </tr>\n",
       "  </tbody>\n",
       "</table>\n",
       "<p>716 rows × 33 columns</p>\n",
       "</div>"
      ],
      "text/plain": [
       "     product_id  onsale_web  price  stock_quantity stock_status    sku  \\\n",
       "2          4165         1.0   12.0            57.0      instock  15075   \n",
       "3          4174         1.0    5.7            94.0      instock  16209   \n",
       "5          5796         1.0   12.5            12.0      instock  13895   \n",
       "6          4582         1.0  109.6             7.0      instock  12857   \n",
       "9          6106         1.0   74.8            15.0      instock  14106   \n",
       "...         ...         ...    ...             ...          ...    ...   \n",
       "1501       4074         1.0   12.7            50.0      instock  15941   \n",
       "1503       4617         1.0   67.5             1.0      instock  10459   \n",
       "1507       4062         1.0   11.9            60.0      instock  16320   \n",
       "1509       4262         1.0   15.8            35.0      instock  15663   \n",
       "1510       5896         1.0   24.7            17.0      instock  15910   \n",
       "\n",
       "      virtual  downloadable  rating_count  average_rating  ...  \\\n",
       "2           0             0             0             0.0  ...   \n",
       "3           0             0             0             0.0  ...   \n",
       "5           0             0             0             0.0  ...   \n",
       "6           0             0             0             0.0  ...   \n",
       "9           0             0             0             0.0  ...   \n",
       "...       ...           ...           ...             ...  ...   \n",
       "1501        0             0             0             0.0  ...   \n",
       "1503        0             0             0             0.0  ...   \n",
       "1507        0             0             0             0.0  ...   \n",
       "1509        0             0             0             0.0  ...   \n",
       "1510        0             0             0             0.0  ...   \n",
       "\n",
       "                                              post_name       post_modified  \\\n",
       "2                     pares-balta-penedes-indigena-2017 2020-08-20 15:35:02   \n",
       "3                        maurel-cabardes-tradition-2017 2020-08-05 18:05:03   \n",
       "5            chateau-saransot-dupre-bordeaux-blanc-2016 2020-04-25 21:11:40   \n",
       "6     chateau-de-puligny-montrachet-1cru-champ-canet... 2020-02-06 16:35:02   \n",
       "9                   stephane-tissot-chateau-chalon-2011 2020-05-29 17:35:03   \n",
       "...                                                 ...                 ...   \n",
       "1501                         jerome-cotes-du-rhone-2018 2020-06-25 14:00:03   \n",
       "1503  alphonse-mellot-sancerre-rouge-generation-xix-... 2020-08-24 14:05:02   \n",
       "1507  mourgues-du-gres-costieres-de-nimes-terre-darg... 2020-08-25 11:15:03   \n",
       "1509  chermette-domaine-du-vissoux-brouilly-pierreux... 2020-08-01 09:35:02   \n",
       "1510     thevenet-quintaine-vire-clesse-la-bongran-2015 2020-08-14 10:45:02   \n",
       "\n",
       "       post_modified_gmt post_content_filtered post_parent  \\\n",
       "2    2020-08-20 13:35:02                   NaN         0.0   \n",
       "3    2020-08-05 16:05:03                   NaN         0.0   \n",
       "5    2020-04-25 19:11:40                   NaN         0.0   \n",
       "6    2020-02-06 15:35:02                   NaN         0.0   \n",
       "9    2020-05-29 15:35:03                   NaN         0.0   \n",
       "...                  ...                   ...         ...   \n",
       "1501 2020-06-25 12:00:03                   NaN         0.0   \n",
       "1503 2020-08-24 12:05:02                   NaN         0.0   \n",
       "1507 2020-08-25 09:15:03                   NaN         0.0   \n",
       "1509 2020-08-01 07:35:02                   NaN         0.0   \n",
       "1510 2020-08-14 08:45:02                   NaN         0.0   \n",
       "\n",
       "                                                   guid  menu_order post_type  \\\n",
       "2     https://www.bottle-neck.fr/?post_type=product&...         0.0   product   \n",
       "3     https://www.bottle-neck.fr/?post_type=product&...         0.0   product   \n",
       "5     https://www.bottle-neck.fr/?post_type=product&...         0.0   product   \n",
       "6     https://www.bottle-neck.fr/?post_type=product&...         0.0   product   \n",
       "9     https://www.bottle-neck.fr/?post_type=product&...         0.0   product   \n",
       "...                                                 ...         ...       ...   \n",
       "1501  https://www.bottle-neck.fr/?post_type=product&...         0.0   product   \n",
       "1503  https://www.bottle-neck.fr/?post_type=product&...         0.0   product   \n",
       "1507  https://www.bottle-neck.fr/?post_type=product&...         0.0   product   \n",
       "1509  https://www.bottle-neck.fr/?post_type=product&...         0.0   product   \n",
       "1510  https://www.bottle-neck.fr/?post_type=product&...         0.0   product   \n",
       "\n",
       "     post_mime_type comment_count  \n",
       "2               NaN           0.0  \n",
       "3               NaN           0.0  \n",
       "5               NaN           0.0  \n",
       "6               NaN           0.0  \n",
       "9               NaN           0.0  \n",
       "...             ...           ...  \n",
       "1501            NaN           0.0  \n",
       "1503            NaN           0.0  \n",
       "1507            NaN           0.0  \n",
       "1509            NaN           0.0  \n",
       "1510            NaN           0.0  \n",
       "\n",
       "[716 rows x 33 columns]"
      ]
     },
     "execution_count": 241,
     "metadata": {},
     "output_type": "execute_result"
    }
   ],
   "source": [
    "df_final"
   ]
  },
  {
   "cell_type": "markdown",
   "id": "aed3b86b",
   "metadata": {},
   "source": [
    "## Chiffre d'affaire par produits :"
   ]
  },
  {
   "cell_type": "markdown",
   "id": "61de47df",
   "metadata": {},
   "source": [
    "**Les prix et les quantités vendues, nous permettent de calculer le chiffre d'affaires généré par chaque produit.**"
   ]
  },
  {
   "cell_type": "markdown",
   "id": "d17e1f20",
   "metadata": {},
   "source": [
    "Toutes les lignes où SKU = NaN sont complètement vides donc à enlever, excepté deux lignes vides concernant\n",
    "\"Pierre Jean Villa Côte Rôtie Fongeant 2017\" et \"Pierre Jean Villa Condrieu Jardin Suspendu 2018\" il faut voir avec le service\n",
    "concerné si ces lignes doivent être conservées et complétées ou non (produits vendus en boutique ? sur le site? en stock ?). Ici, on a opté pour les supprimer."
   ]
  },
  {
   "cell_type": "code",
   "execution_count": 131,
   "id": "ac3c8de0",
   "metadata": {},
   "outputs": [
    {
     "name": "stdout",
     "output_type": "stream",
     "text": [
      "Donc on va enlever ces 2 lignes du dataframe df_final!.\n"
     ]
    },
    {
     "data": {
      "text/html": [
       "<div>\n",
       "<style scoped>\n",
       "    .dataframe tbody tr th:only-of-type {\n",
       "        vertical-align: middle;\n",
       "    }\n",
       "\n",
       "    .dataframe tbody tr th {\n",
       "        vertical-align: top;\n",
       "    }\n",
       "\n",
       "    .dataframe thead th {\n",
       "        text-align: right;\n",
       "    }\n",
       "</style>\n",
       "<table border=\"1\" class=\"dataframe\">\n",
       "  <thead>\n",
       "    <tr style=\"text-align: right;\">\n",
       "      <th></th>\n",
       "      <th>product_id</th>\n",
       "      <th>onsale_web</th>\n",
       "      <th>price</th>\n",
       "      <th>stock_quantity</th>\n",
       "      <th>stock_status</th>\n",
       "      <th>sku</th>\n",
       "      <th>virtual</th>\n",
       "      <th>downloadable</th>\n",
       "      <th>rating_count</th>\n",
       "      <th>average_rating</th>\n",
       "      <th>...</th>\n",
       "      <th>post_name</th>\n",
       "      <th>post_modified</th>\n",
       "      <th>post_modified_gmt</th>\n",
       "      <th>post_content_filtered</th>\n",
       "      <th>post_parent</th>\n",
       "      <th>guid</th>\n",
       "      <th>menu_order</th>\n",
       "      <th>post_type</th>\n",
       "      <th>post_mime_type</th>\n",
       "      <th>comment_count</th>\n",
       "    </tr>\n",
       "  </thead>\n",
       "  <tbody>\n",
       "    <tr>\n",
       "      <th>353</th>\n",
       "      <td>NaN</td>\n",
       "      <td>NaN</td>\n",
       "      <td>NaN</td>\n",
       "      <td>NaN</td>\n",
       "      <td>NaN</td>\n",
       "      <td>NaN</td>\n",
       "      <td>0</td>\n",
       "      <td>0</td>\n",
       "      <td>0</td>\n",
       "      <td>0.0</td>\n",
       "      <td>...</td>\n",
       "      <td>pierre-jean-villa-condrieu-suspendu-2018</td>\n",
       "      <td>2019-11-02 13:24:01</td>\n",
       "      <td>2019-11-02 12:24:01</td>\n",
       "      <td>NaN</td>\n",
       "      <td>0.0</td>\n",
       "      <td>https://www.bottle-neck.fr/?post_type=product&amp;...</td>\n",
       "      <td>0.0</td>\n",
       "      <td>product</td>\n",
       "      <td>NaN</td>\n",
       "      <td>0.0</td>\n",
       "    </tr>\n",
       "    <tr>\n",
       "      <th>488</th>\n",
       "      <td>NaN</td>\n",
       "      <td>NaN</td>\n",
       "      <td>NaN</td>\n",
       "      <td>NaN</td>\n",
       "      <td>NaN</td>\n",
       "      <td>NaN</td>\n",
       "      <td>0</td>\n",
       "      <td>0</td>\n",
       "      <td>0</td>\n",
       "      <td>0.0</td>\n",
       "      <td>...</td>\n",
       "      <td>pierre-jean-villa-cote-rotie-fongeant-2017</td>\n",
       "      <td>2019-11-02 13:24:15</td>\n",
       "      <td>2019-11-02 12:24:15</td>\n",
       "      <td>NaN</td>\n",
       "      <td>0.0</td>\n",
       "      <td>https://www.bottle-neck.fr/?post_type=product&amp;...</td>\n",
       "      <td>0.0</td>\n",
       "      <td>product</td>\n",
       "      <td>NaN</td>\n",
       "      <td>0.0</td>\n",
       "    </tr>\n",
       "  </tbody>\n",
       "</table>\n",
       "<p>2 rows × 33 columns</p>\n",
       "</div>"
      ],
      "text/plain": [
       "    product_id  onsale_web  price  stock_quantity stock_status  sku  virtual  \\\n",
       "353        NaN         NaN    NaN             NaN          NaN  NaN        0   \n",
       "488        NaN         NaN    NaN             NaN          NaN  NaN        0   \n",
       "\n",
       "     downloadable  rating_count  average_rating  ...  \\\n",
       "353             0             0             0.0  ...   \n",
       "488             0             0             0.0  ...   \n",
       "\n",
       "                                      post_name       post_modified  \\\n",
       "353    pierre-jean-villa-condrieu-suspendu-2018 2019-11-02 13:24:01   \n",
       "488  pierre-jean-villa-cote-rotie-fongeant-2017 2019-11-02 13:24:15   \n",
       "\n",
       "      post_modified_gmt post_content_filtered post_parent  \\\n",
       "353 2019-11-02 12:24:01                   NaN         0.0   \n",
       "488 2019-11-02 12:24:15                   NaN         0.0   \n",
       "\n",
       "                                                  guid  menu_order post_type  \\\n",
       "353  https://www.bottle-neck.fr/?post_type=product&...         0.0   product   \n",
       "488  https://www.bottle-neck.fr/?post_type=product&...         0.0   product   \n",
       "\n",
       "    post_mime_type comment_count  \n",
       "353            NaN           0.0  \n",
       "488            NaN           0.0  \n",
       "\n",
       "[2 rows x 33 columns]"
      ]
     },
     "execution_count": 131,
     "metadata": {},
     "output_type": "execute_result"
    }
   ],
   "source": [
    "#le nombre de lignes dont le sku est non disponible\n",
    "na = df_final['sku'].isna().sum()\n",
    "print(\"Donc, on va enlever ces\",na, \"lignes du dataframe df_final!.\")\n",
    "# Les afficher \n",
    "df_final.loc[df_final['sku'].isna(),:]"
   ]
  },
  {
   "cell_type": "code",
   "execution_count": 135,
   "id": "2b5e1f10",
   "metadata": {},
   "outputs": [],
   "source": [
    "#Suppression des lingnes \"nan\" sku\n",
    "df_final = df_final.dropna(subset=['sku'])\n",
    "#Une copie du Dataframe final\n",
    "dfFinal=df_final.copy()"
   ]
  },
  {
   "cell_type": "code",
   "execution_count": 136,
   "id": "2a2d0cf1",
   "metadata": {},
   "outputs": [
    {
     "name": "stdout",
     "output_type": "stream",
     "text": [
      "                                                    ca_product\n",
      "post_title                                                    \n",
      "Agnès Levet Côte Rôtie Améthyste 2017                    164.8\n",
      "Agnès Levet Côte Rôtie Maestria 2017                     165.0\n",
      "Agnès Levet Côte Rôtie Péroline 2017                     171.0\n",
      "Alain Graillot Crozes-Hermitage Blanc 2018               244.0\n",
      "Alain Graillot Crozes-Hermitage Rouge 2017               146.4\n",
      "...                                                        ...\n",
      "Zind-Humbrecht Pinot Gris Roche Calcaire 2017              0.0\n",
      "Zind-Humbrecht Riesling Clos Windsbuhl 2014                0.0\n",
      "Zind-Humbrecht Riesling Grand Cru Rangen De Tha...         0.0\n",
      "Zind-Humbrecht Riesling Herrenweg de Turckheim ...        63.4\n",
      "Zind-Humbrecht Zind 2017                                 154.2\n",
      "\n",
      "[711 rows x 1 columns]\n"
     ]
    }
   ],
   "source": [
    "# L'ajout d'une colonne contenant le chiffre d'affaire par produit:\n",
    "df_final[\"ca_product\"] = df_final[\"price\"]*df_final[\"total_sales\"]\n",
    "\n",
    "print(df_final.groupby(\"post_title\")[[\"ca_product\"]].sum())"
   ]
  },
  {
   "cell_type": "markdown",
   "id": "afeccea0",
   "metadata": {},
   "source": [
    "## Chiffre d'affaire totaux:"
   ]
  },
  {
   "cell_type": "code",
   "execution_count": 137,
   "id": "9844d1de",
   "metadata": {},
   "outputs": [
    {
     "name": "stdout",
     "output_type": "stream",
     "text": [
      "Le chiffre daffaire total est de 70568.6 €\n"
     ]
    }
   ],
   "source": [
    "#Chiffre d'affaire global:\n",
    "Ca_Tot = round(sum(df_final[\"ca_product\"]),1)\n",
    "print(\"Le chiffre daffaire total est de\", Ca_Tot, \"€\")"
   ]
  },
  {
   "cell_type": "code",
   "execution_count": 138,
   "id": "d04fa447",
   "metadata": {},
   "outputs": [
    {
     "name": "stdout",
     "output_type": "stream",
     "text": [
      "Le chiffre d'affaire en ligne total est de 70568.6 €\n"
     ]
    }
   ],
   "source": [
    "# Chiffre d'affaire en ligne total:\n",
    "Ca_Web = round(sum(df_final.loc[(df_final[\"onsale_web\"]==1),\"price\"]*df_final.loc[(df_final[\"onsale_web\"]==1),\"total_sales\"]),1)\n",
    "\n",
    "print(\"Le chiffre d'affaire en ligne total est de\", Ca_Web, \"€\")"
   ]
  },
  {
   "cell_type": "markdown",
   "id": "23391c4a",
   "metadata": {},
   "source": [
    "**Remarque : Normalement les deux chiffres d'afaires doivent etre différent ( CA total = CA en ligne + CA en boutique)**\n",
    " C'est du au fait que les ventes en boutiques ne sont pas comptabilisées dans notre dataframe (total_sales toujours nulles) mais si on a ces données alors la premier CA ne correspondra plus au chiffre d'affaire total des ventes en ligne mais au chiffre d'affaire globale."
   ]
  },
  {
   "cell_type": "markdown",
   "id": "667ec7c0",
   "metadata": {},
   "source": [
    "## Les produits génèrent le plus/ le moins de chiffre d'affaires :"
   ]
  },
  {
   "cell_type": "markdown",
   "id": "6f0e6558",
   "metadata": {},
   "source": [
    " Les produits génèrent le plus de chiffre d'affaires :"
   ]
  },
  {
   "cell_type": "code",
   "execution_count": 208,
   "id": "e23020fe",
   "metadata": {},
   "outputs": [
    {
     "name": "stdout",
     "output_type": "stream",
     "text": [
      "        sku  total_sales  price  ca_product stock_status\n",
      "742    7818         96.0   49.0      4704.0   outofstock\n",
      "1429   1662         87.0   49.0      4263.0      instock\n",
      "1104  16416         62.0   16.6      1029.2      instock\n",
      "273   16295         46.0    5.8       266.8      instock\n",
      "201   16210         43.0    5.7       245.1      instock\n",
      "529   16189         42.0   13.3       558.6      instock\n",
      "1196  16580         41.0   25.2      1033.2      instock\n",
      "748     304         40.0   39.0      1560.0      instock\n",
      "177   16264         38.0   10.9       414.2      instock\n",
      "1123     38         38.0    8.6       326.8      instock\n"
     ]
    }
   ],
   "source": [
    "Best_Seller_Web = df_final.loc[(df_final[\"onsale_web\"]==1),(\"sku\",\n",
    "                                                                \"total_sales\",\n",
    "                                                                \"price\",\n",
    "                                                                \"ca_product\",\n",
    "                                                                \"stock_status\")\n",
    "                                ]\n",
    "\n",
    "print(Best_Seller_Web.nlargest(10,\"total_sales\"))"
   ]
  },
  {
   "cell_type": "markdown",
   "id": "fb393a1c",
   "metadata": {},
   "source": [
    "Ce tableau nous permet d'identifier nos produits les plus vendus sur le web ainsi que leur disponibilité, il nous confirme que le produit le plus vendu est actuellement en rupture de stock."
   ]
  },
  {
   "cell_type": "markdown",
   "id": "2e4990bb",
   "metadata": {},
   "source": [
    "Les produits qui en génèrent le moins :"
   ]
  },
  {
   "cell_type": "code",
   "execution_count": 209,
   "id": "2b797c72",
   "metadata": {},
   "outputs": [
    {
     "name": "stdout",
     "output_type": "stream",
     "text": [
      "      sku  total_sales  price  ca_product stock_status\n",
      "5   13895          0.0   12.5         0.0      instock\n",
      "6   12857          0.0  109.6         0.0      instock\n",
      "9   14106          0.0   74.8         0.0      instock\n",
      "25   1364          0.0   37.5         0.0      instock\n",
      "26  13913          0.0   86.8         0.0      instock\n",
      "29  19815          0.0   46.0         0.0   outofstock\n",
      "32  14982          0.0   13.7         0.0      instock\n",
      "33  15339          0.0   23.0         0.0   outofstock\n",
      "34  15382          0.0  100.0         0.0      instock\n",
      "38  15241          0.0   63.5         0.0      instock\n"
     ]
    }
   ],
   "source": [
    "Best_Seller_Web = df_final.loc[(df_final[\"onsale_web\"]==1),(\"sku\",\n",
    "                                                                \"total_sales\",\n",
    "                                                                \"price\",\n",
    "                                                                \"ca_product\",\n",
    "                                                                \"stock_status\")\n",
    "                                ]\n",
    "\n",
    "print(Best_Seller_Web.nsmallest(10,\"total_sales\"))"
   ]
  },
  {
   "cell_type": "markdown",
   "id": "1ec19dfe",
   "metadata": {},
   "source": [
    "Parmi les produits en queue de classement, on retrouve essentiellement des produits ayant des prix unitaires plutôt élevés."
   ]
  },
  {
   "cell_type": "markdown",
   "id": "fa5c2284",
   "metadata": {},
   "source": [
    "# Analyse des prix et représentation graphique (outliers):"
   ]
  },
  {
   "cell_type": "markdown",
   "id": "68d76781",
   "metadata": {},
   "source": [
    "Dans cette partie, nous allons réaliser une étude univariée sur les prix de ventes afin de vérifier si ils contiennent des incohérences."
   ]
  },
  {
   "cell_type": "markdown",
   "id": "a315a9c1",
   "metadata": {},
   "source": [
    "## Mesures de tendance centrale"
   ]
  },
  {
   "cell_type": "markdown",
   "id": "33f1620b",
   "metadata": {},
   "source": [
    "Afin d'avoir une idée de la valeur autour de laquelle se concentrent les prix, calculons le mode, la moyenne et la médiane."
   ]
  },
  {
   "cell_type": "markdown",
   "id": "bd0784a6",
   "metadata": {},
   "source": [
    "Pour rappel:\n",
    "\n",
    "* mode = valeur la plus fréquente\n",
    "* moyenne= somme des valeurs divisée par leur nombre, robuste aux outliers\n",
    "* médiane= autant de valeur au-dessus qu'en-dessous"
   ]
  },
  {
   "cell_type": "code",
   "execution_count": 42,
   "id": "c6a8d219",
   "metadata": {},
   "outputs": [
    {
     "data": {
      "text/html": [
       "<div>\n",
       "<style scoped>\n",
       "    .dataframe tbody tr th:only-of-type {\n",
       "        vertical-align: middle;\n",
       "    }\n",
       "\n",
       "    .dataframe tbody tr th {\n",
       "        vertical-align: top;\n",
       "    }\n",
       "\n",
       "    .dataframe thead th {\n",
       "        text-align: right;\n",
       "    }\n",
       "</style>\n",
       "<table border=\"1\" class=\"dataframe\">\n",
       "  <thead>\n",
       "    <tr style=\"text-align: right;\">\n",
       "      <th></th>\n",
       "      <th>price</th>\n",
       "    </tr>\n",
       "  </thead>\n",
       "  <tbody>\n",
       "    <tr>\n",
       "      <th>count</th>\n",
       "      <td>714.000000</td>\n",
       "    </tr>\n",
       "    <tr>\n",
       "      <th>mean</th>\n",
       "      <td>32.493137</td>\n",
       "    </tr>\n",
       "    <tr>\n",
       "      <th>std</th>\n",
       "      <td>27.810525</td>\n",
       "    </tr>\n",
       "    <tr>\n",
       "      <th>min</th>\n",
       "      <td>5.200000</td>\n",
       "    </tr>\n",
       "    <tr>\n",
       "      <th>25%</th>\n",
       "      <td>14.100000</td>\n",
       "    </tr>\n",
       "    <tr>\n",
       "      <th>50%</th>\n",
       "      <td>23.550000</td>\n",
       "    </tr>\n",
       "    <tr>\n",
       "      <th>75%</th>\n",
       "      <td>42.175000</td>\n",
       "    </tr>\n",
       "    <tr>\n",
       "      <th>max</th>\n",
       "      <td>225.000000</td>\n",
       "    </tr>\n",
       "  </tbody>\n",
       "</table>\n",
       "</div>"
      ],
      "text/plain": [
       "            price\n",
       "count  714.000000\n",
       "mean    32.493137\n",
       "std     27.810525\n",
       "min      5.200000\n",
       "25%     14.100000\n",
       "50%     23.550000\n",
       "75%     42.175000\n",
       "max    225.000000"
      ]
     },
     "execution_count": 42,
     "metadata": {},
     "output_type": "execute_result"
    }
   ],
   "source": [
    "df_final[[\"price\"]].describe()"
   ]
  },
  {
   "cell_type": "code",
   "execution_count": 186,
   "id": "5cb0b38f",
   "metadata": {},
   "outputs": [
    {
     "name": "stdout",
     "output_type": "stream",
     "text": [
      "Le mode est de 0    19.0\n",
      "Name: price, dtype: float64\n",
      "La moyenne est de 32.49313725490196\n",
      "Le médiane  est de 23.55\n"
     ]
    }
   ],
   "source": [
    "print(\"Le mode est de\", df_final[\"price\"].mode())\n",
    "print(\"La moyenne est de\", df_final['price'].mean())\n",
    "print(\"Le médiane  est de\", df_final['price'].median())"
   ]
  },
  {
   "cell_type": "markdown",
   "id": "f53975f7",
   "metadata": {},
   "source": [
    "**La méthode .describe nous donne un résumé statistique basique de la colonne price de notre dataframe.**\n",
    "* Nous avons donc 714 valeurs avec 5,20€ pour le prix minimum et 225€ pour le prix maximum.\n",
    "* Nous avons aussi les premier (Q1=14) et troisème quartiles (Q3=42) ainsi que la médiane (second quartile, 50%) à 23,55€.\n",
    "* La moyenne de 32,49€, elle n'est pas vraiment exploitable car elle tient compte des valeurs aberrantes de notre jeu de données.\n",
    "* La médiane, quant à elle, nous indique que la moitié des prix sont supérieurs à 23,55 €.\n",
    "* On a calculer également le mode qui nous indique que 19 € est le prix qui revient le plus souvent. "
   ]
  },
  {
   "cell_type": "markdown",
   "id": "d5e58b26",
   "metadata": {},
   "source": [
    "## Mesures de dispersion"
   ]
  },
  {
   "cell_type": "markdown",
   "id": "bc598561",
   "metadata": {},
   "source": [
    "Pour analyser plus en détail, calculons les mesures de dispersion. Elles vont nous permettre de préciser la façon dont les prix se répartissent autour des mesures de tendance centrale."
   ]
  },
  {
   "cell_type": "code",
   "execution_count": 174,
   "id": "e34b1d78",
   "metadata": {},
   "outputs": [
    {
     "name": "stdout",
     "output_type": "stream",
     "text": [
      "La variance est de 772.34\n",
      "L'écart type est de 27.79\n"
     ]
    }
   ],
   "source": [
    "print(\"La variance est de\", round(df_final[\"price\"].var(ddof=0),2))\n",
    "print(\"L'écart type est de\", round( df_final['price'].std(ddof=0),2))"
   ]
  },
  {
   "cell_type": "markdown",
   "id": "30fafbf3",
   "metadata": {},
   "source": [
    "L'écart-type, avec une valeur proche de la moyenne, permet de constater que les prix sont assez dispersés autour de cette dernière. Connaître la moyenne et l’écart-type ne suffit pas. Ce qu'il vous faut connaître, c'est la forme de la distribution : est-ce qu'elle s'étale plutôt vers la gauche ou plutôt vers la droite ?!"
   ]
  },
  {
   "cell_type": "markdown",
   "id": "4771db1a",
   "metadata": {},
   "source": [
    "## Mesures de forme"
   ]
  },
  {
   "cell_type": "code",
   "execution_count": 244,
   "id": "2800e002",
   "metadata": {},
   "outputs": [
    {
     "name": "stdout",
     "output_type": "stream",
     "text": [
      "Le Skewness est de 2.58\n",
      "Le kurtosis est de 10.09\n"
     ]
    }
   ],
   "source": [
    "print(\"Le Skewness est de\", round(df_final[\"price\"].skew(),2))\n",
    "print(\"Le kurtosis est de\", round(df_final['price'].kurtosis(),2))"
   ]
  },
  {
   "cell_type": "markdown",
   "id": "fd70a217",
   "metadata": {},
   "source": [
    "Le skewness montre que la distribution est asymétrique et qu'elle est étalée à droite car sa valeur est positive.\n",
    "Ici, le kurtosis ne pourra pas nous donner beaucoup d'indications car l'aplatissement ne peut s'interpréter qu'à condition que la distribution soit symétrique."
   ]
  },
  {
   "cell_type": "markdown",
   "id": "ac058b70",
   "metadata": {},
   "source": [
    "**Maintenant, verifions cela de manière plus explicite graphiquement.**"
   ]
  },
  {
   "cell_type": "markdown",
   "id": "1498036f",
   "metadata": {},
   "source": [
    "## Distribution empirique des prix"
   ]
  },
  {
   "cell_type": "code",
   "execution_count": 156,
   "id": "536e352e",
   "metadata": {},
   "outputs": [
    {
     "data": {
      "text/plain": [
       "Text(0.5, 1.0, 'Répartition des prix')"
      ]
     },
     "execution_count": 156,
     "metadata": {},
     "output_type": "execute_result"
    },
    {
     "data": {
      "image/png": "[encoded data removed]",
      "text/plain": [
       "<Figure size 640x480 with 1 Axes>"
      ]
     },
     "metadata": {},
     "output_type": "display_data"
    }
   ],
   "source": [
    "mean = df_final[\"price\"].mean()\n",
    "median = df_final[\"price\"].median()\n",
    "\n",
    "#Representation de la repartition des prix en histogramme:\n",
    "sns.histplot(data=df_final[\"price\"])\n",
    "plt.axvline(mean, color=\"black\", linestyle=\"--\")\n",
    "plt.axvline(median, color=\"black\", linestyle=\"-\")\n",
    "plt.legend({\"Moyenne\":mean,\"Mediane\":median})\n",
    "plt.title(\"Répartition des prix\")"
   ]
  },
  {
   "cell_type": "markdown",
   "id": "9882b11d",
   "metadata": {},
   "source": [
    "**L'histogramme de la répartition des prix correspond visuellement à ce qui est attendu même min/max, la moyenne et la médiane aussi. On voit que la médiane est décalée sur la gauche de notre graphique, les premiers prix sont donc plus fréquents dans notre boutique que les plus élevés.  La mesure empirique du Skweness est confirmée puisqu'on voit que la répartition est assymétrique en faveur de la droite.**\n",
    "**Visuellement et sans avoir encore de confirmation tangible il semblerait que les outliers se retrouvent plutôt parmi les prix élevés.**"
   ]
  },
  {
   "cell_type": "code",
   "execution_count": 188,
   "id": "a186adf5",
   "metadata": {},
   "outputs": [
    {
     "name": "stdout",
     "output_type": "stream",
     "text": [
      "Q1= 14.0 Q3= 42.0 IQR= 28.0\n",
      "Limite pour les outliers inferieurs:\n",
      " -28.01\n",
      "Limite pour les outliers superieurs:\n",
      " 84.29\n"
     ]
    }
   ],
   "source": [
    "# Detection numerique des outliers:\n",
    "Q1 = df_final['price'].quantile(0.25)\n",
    "Q3 = df_final['price'].quantile(0.75)\n",
    "IQR = Q3 - Q1\n",
    "print(\"Q1=\",round(Q1,0), \"Q3=\",round(Q3,0),\"IQR=\",round(IQR,0))\n",
    "Lim_Outliers_Inf = Q1-1.5*IQR\n",
    "Lim_Outliers_Sup = Q3+1.5*IQR\n",
    "\n",
    "print(\"Limite pour les outliers inferieurs:\\n\", round(Lim_Outliers_Inf,2))\n",
    "\n",
    "print(\"Limite pour les outliers superieurs:\\n\", round(Lim_Outliers_Sup,2))"
   ]
  },
  {
   "cell_type": "markdown",
   "id": "d693bed0",
   "metadata": {},
   "source": [
    "* La limite inférieure étant négative (-28,01) il est logique qu'aucun outlier inférieur n'existe (un prix ne peut pas être négatif et notre valeur de prix minimale est de 5,20€). On vérifie tout de même en affichant les index pour lesquels l'affirmation serait juste (True).\n",
    "\n",
    "* La limite supérieure est de 84,29€ sachant que la valeur maximale est de 225€ il est évident qu'il y a au moins un outlieur supérieur, on doit donc retourner les index des tuples pour lesquels l'affirmation est juste. Il y a 32 références concernées."
   ]
  },
  {
   "cell_type": "code",
   "execution_count": 201,
   "id": "b5888075",
   "metadata": {},
   "outputs": [
    {
     "name": "stdout",
     "output_type": "stream",
     "text": [
      "Les index des outliers inferieurs sont:\n",
      " []\n",
      "Les index des outliers superieurs sont:\n",
      " [  3   5  12  16  37 102 119 152 177 181 186 187 201 232 239 286 315 334\n",
      " 393 396 405 410 437 464 508 519 541 546 559 572 580 670]\n",
      "Donc, Il y a 32  références concernées\n",
      "\n",
      "       price                                         post_title\n",
      "6     109.6  Château de Meursault Puligny-Montrachet 1er Cr...\n",
      "10    115.0  Domaine des Comtes Lafon Volnay 1er Cru Santen...\n",
      "26     86.8  Champagne Agrapart &amp; Fils Minéral Extra Br...\n",
      "34    100.0  Zind-Humbrecht Riesling Grand Cru Rangen De Th...\n",
      "76    102.3  Domaine Des Croix Corton Grand Cru Les Grèves ...\n",
      "199   105.0  Domaine des Comtes Lafon Volnay 1er Cru Santen...\n",
      "234    99.0  Domaine des Comtes Lafon Volnay 1er Cru Champa...\n",
      "307    88.4  Zind-Humbrecht Pinot Gris Grand Cru Rangen De ...\n",
      "364   175.0                Camille Giroud Clos de Vougeot 2016\n",
      "368   124.8  Domaine Weinbach Gewurztraminer Grand Cru Furs...\n",
      "377   176.0                               Cognac Frapin VIP XO\n",
      "378   112.0  Champagne Agrapart &amp; Fils L'Avizoise Extra...\n",
      "406   121.0  Domaine des Comtes Lafon Volnay 1er Cru Champa...\n",
      "473   105.0  Domaine des Comtes Lafon Volnay 1er Cru Santen...\n",
      "487   122.0  Wemyss Malts Single Cask Scotch Whisky Choc 'n...\n",
      "564   105.6  David Duband Chambolle-Musigny 1er Cru Les Sen...\n",
      "630   217.5     David Duband Charmes-Chambertin Grand Cru 2014\n",
      "677   137.0  Domaine Des Croix Corton Charlemagne Grand Cru...\n",
      "799   121.0  Domaine des Comtes Lafon Volnay 1er Cru Santen...\n",
      "802   115.0  Domaine des Comtes Lafon Volnay 1er Cru Champa...\n",
      "822   116.4  Domaine Clerget Echezeaux Grand Cru En Orveaux...\n",
      "830   104.0                          Cognac Frapin Cigar Blend\n",
      "878    93.0  Wemyss Malts Single Cask Scotch Whisky Chocola...\n",
      "957   157.0  Cognac Frapin Château de Fontpinot 1989 20 Ans...\n",
      "1071  114.0  Wemyss Malts Single Cask Scotch Whisky Chai Ca...\n",
      "1091  126.5     Champagne Egly-Ouriet Grand Cru Blanc de Noirs\n",
      "1148   85.6  Champagne Larmandier-Bernier Grand Cru Les Che...\n",
      "1156   92.0                      Tempier Bandol Cabassaou 2017\n",
      "1182  191.3  Coteaux Champenois Egly-Ouriet Ambonnay Rouge ...\n",
      "1207  135.0             Champagne Gosset Célébris Vintage 2007\n",
      "1223  108.5              Cognac Frapin Château de Fontpinot XO\n",
      "1436  225.0     Champagne Egly-Ouriet Grand Cru Millésimé 2008\n"
     ]
    }
   ],
   "source": [
    "Outliers_Inf = df_final[\"price\"] < Lim_Outliers_Inf # dtype bool\n",
    "Outliers_Sup = df_final[\"price\"] > Lim_Outliers_Sup # dtype bool\n",
    "print(\"Les index des outliers inferieurs sont:\\n\", np.where(Outliers_Inf)[0])\n",
    "print(\"Les index des outliers superieurs sont:\\n\", np.where(Outliers_Sup)[0])\n",
    "print(\"Donc, Il y a\",len(np.where(Outliers_Sup)[0]) ,\" références concernées\")\n",
    "\n",
    "print(\"\\n\",df_final.loc[(df_final[\"price\"]>84.29),(\"price\",\"post_title\")])"
   ]
  },
  {
   "cell_type": "markdown",
   "id": "cba63ac3",
   "metadata": {},
   "source": [
    "**Les valeurs en dessous de Q1- 1,5 x IQ et au-dessus de Q3 + 1,5 x IQ qui seront considérée comme de outliers. (avec Q1 = premier quantile, IQ = écart interquantile et Q3 = troisième quantile)**"
   ]
  },
  {
   "cell_type": "markdown",
   "id": "3fd39804",
   "metadata": {},
   "source": [
    "Tracons une représentation graphique de type boîte à moustaches pour finalement identifier les valeurs aberrantes."
   ]
  },
  {
   "cell_type": "code",
   "execution_count": 245,
   "id": "c726f683",
   "metadata": {
    "scrolled": true
   },
   "outputs": [
    {
     "data": {
      "image/png": "[encoded data removed]",
      "text/plain": [
       "<Figure size 640x480 with 1 Axes>"
      ]
     },
     "metadata": {},
     "output_type": "display_data"
    }
   ],
   "source": [
    "Boxplot = sns.boxplot(x=df_final[\"price\"],palette=\"cubehelix\")"
   ]
  },
  {
   "cell_type": "markdown",
   "id": "c12cfc11",
   "metadata": {},
   "source": [
    "**On retrouve nos Q1, Q3 et la médiane, les 32 outliers au-dessus de Q3 et leur position en fonction de leur prix.**"
   ]
  },
  {
   "cell_type": "markdown",
   "id": "5a4e01e0",
   "metadata": {},
   "source": [
    "**Statistiquement parlant, les produits dont les prix déppassent la limite des outliers supérirures (84€) sont considérés des outliers. Cependant, une simple recherche sur internet montre qu'il existe vraiment des produits qui sont beaucoup plus chers. On cite a titre d'exemples ces deux produits dont le prix est cohérent avec le prix du marché :**"
   ]
  },
  {
   "cell_type": "code",
   "execution_count": 220,
   "id": "96d518c1",
   "metadata": {},
   "outputs": [
    {
     "name": "stdout",
     "output_type": "stream",
     "text": [
      "\n",
      "       price                                         post_title\n",
      "677   137.0  Domaine Des Croix Corton Charlemagne Grand Cru...\n",
      "1436  225.0     Champagne Egly-Ouriet Grand Cru Millésimé 2008\n"
     ]
    }
   ],
   "source": [
    "print(\"\\n\",df_final.loc[(df_final[\"price\"]== 137) | (df_final[\"price\"]==225),(\"price\",\"post_title\")])"
   ]
  }
 ],
 "metadata": {
  "kernelspec": {
   "display_name": "Python 3 (ipykernel)",
   "language": "python",
   "name": "python3"
  },
  "language_info": {
   "codemirror_mode": {
    "name": "ipython",
    "version": 3
   },
   "file_extension": ".py",
   "mimetype": "text/x-python",
   "name": "python",
   "nbconvert_exporter": "python",
   "pygments_lexer": "ipython3",
   "version": "3.11.5"
  },
  "toc": {
   "base_numbering": 1,
   "nav_menu": {},
   "number_sections": true,
   "sideBar": true,
   "skip_h1_title": false,
   "title_cell": "Table of Contents",
   "title_sidebar": "Contents",
   "toc_cell": false,
   "toc_position": {},
   "toc_section_display": true,
   "toc_window_display": false
  }
 },
 "nbformat": 4,
 "nbformat_minor": 5
}
