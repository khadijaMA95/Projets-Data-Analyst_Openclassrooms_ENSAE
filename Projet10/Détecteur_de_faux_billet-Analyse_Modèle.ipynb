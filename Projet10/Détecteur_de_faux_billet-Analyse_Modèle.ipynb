{
 "cells": [
  {
   "cell_type": "markdown",
   "id": "699ed06c",
   "metadata": {},
   "source": [
    "# Détectez des faux billets avec un algorithme Python"
   ]
  },
  {
   "cell_type": "markdown",
   "id": "c9ca4d40",
   "metadata": {},
   "source": [
    "Ce notebook contient l'algorithme retenu pour la détection des faux billets à savoir la régression logistique avec GridSearchCV. Le travail de préparation et de sélection du modèle est présenté dans le fichier detection-faux-billets-oncfm-preparation-donnees.ipynb."
   ]
  },
  {
   "cell_type": "markdown",
   "id": "3bd41490",
   "metadata": {},
   "source": [
    "**Sommaire**\n",
    "\n",
    "1. [Importation du modèle](#paragraph1)\n",
    "2. [ Choix du fichier à analyser ](#paragraph2)    \n",
    "3. [ Vérification des données et détection](#paragraph3)\n",
    "4. [ Affichage des résultats](#paragraph3)\n"
   ]
  },
  {
   "cell_type": "markdown",
   "id": "3281d026",
   "metadata": {},
   "source": [
    "**Importation du modèle :**\n"
   ]
  },
  {
   "cell_type": "code",
   "execution_count": 44,
   "id": "4e699bcc",
   "metadata": {},
   "outputs": [
    {
     "name": "stdout",
     "output_type": "stream",
     "text": [
      "Chargement du modèle effectué avec succès.\n"
     ]
    }
   ],
   "source": [
    "import pandas as pd\n",
    "import numpy as np\n",
    "import joblib\n",
    "from pathlib import Path  # importer la classe Path du module pathlib.\n",
    "\n",
    "# Définit le modèle à importer et son chemin\n",
    "model_folder = Path.cwd() / 'model'\n",
    "model_file = 'logistic-regression-gs.joblib'\n",
    "model_path = Path(model_folder / model_file)\n",
    "\n",
    "# Charge le modèle si le fichier 'joblib' est présent au bon emplacement\n",
    "if not model_folder.is_dir():\n",
    "    raise FileNotFoundError(\n",
    "        f'Impossible de charger le modèle : le dossier \\'{model_folder}\\''\n",
    "        f' n\\'existe pas.'\n",
    "    )\n",
    "elif not model_path.is_file():\n",
    "    raise FileNotFoundError(\n",
    "        f'Impossible de charger le modèle : le fichier \\'{model_file}\\''\n",
    "        f' est manquant.'\n",
    "    )\n",
    "else:\n",
    "    clf = joblib.load(model_path)\n",
    "    print('Chargement du modèle effectué avec succès.')\n"
   ]
  },
  {
   "cell_type": "markdown",
   "id": "65dbcadf",
   "metadata": {},
   "source": [
    "**Choix du fichier à analyser :**\n"
   ]
  },
  {
   "cell_type": "code",
   "execution_count": 45,
   "id": "b469e026",
   "metadata": {},
   "outputs": [
    {
     "name": "stdout",
     "output_type": "stream",
     "text": [
      "Fichiers disponibles pour le test :\n",
      "0 | billets.csv\n"
     ]
    }
   ],
   "source": [
    "# Initialise le chemin du dossier contenant les fichiers à tester\n",
    "data_folder = Path.cwd() / 'datasets'\n",
    "\n",
    "# Création d'une variable J qui pourrait être utilisée plus tard pour stocker l'indice du fichier sélectionné \n",
    "#par l'utilisateur parmi la liste des fichiers CSV disponibles.\n",
    "# Initialise l'indice du fichier sélectionné : \n",
    "j=-1   # j=-1 aucun fichier n'a encore été sélectionné.\n",
    "\n",
    "# Vérifie la présence du dossier 'datasets', liste les fichiers CSV qu'il\n",
    "# contient et récupère le choix utilisateur\n",
    "if not data_folder.is_dir():\n",
    "    raise FileNotFoundError(f'Le dossier {data_folder} n\\'existe pas.')\n",
    "else:\n",
    "    csv_files = [x for x in list(data_folder.glob('*.csv')) if x.is_file()]  # Créer une liste de tous les fichiers qui ont l'extension .csv \n",
    "    if len(csv_files) != 0:       # Vérification de la présence de fichiers CSV\n",
    "        print('Fichiers disponibles pour le test :')\n",
    "        for i, file in enumerate(csv_files):\n",
    "            print(f'{i} | {file.parts[-1]}')\n",
    "    else:\n",
    "        raise FileNotFoundError(\n",
    "            'Il n\\'y a pas de fichiers CSV à tester dans votre dossier.')"
   ]
  },
  {
   "cell_type": "code",
   "execution_count": 46,
   "id": "19f9f020",
   "metadata": {},
   "outputs": [
    {
     "name": "stdout",
     "output_type": "stream",
     "text": [
      "Indiquez le numéro du fichier à tester.0\n",
      "\n",
      "Vous avez choisi le fichier 'billets.csv'.\n"
     ]
    }
   ],
   "source": [
    "while j not in range(0, len(csv_files)):\n",
    "    j = int(input('Indiquez le numéro du fichier à tester.'))\n",
    "\n",
    "print(f'\\nVous avez choisi le fichier \\'{csv_files[j].parts[-1]}\\'.')"
   ]
  },
  {
   "cell_type": "markdown",
   "id": "77de8b53",
   "metadata": {},
   "source": [
    "**Vérification des données et détection :**"
   ]
  },
  {
   "cell_type": "code",
   "execution_count": 52,
   "id": "b06c4511",
   "metadata": {},
   "outputs": [],
   "source": [
    "# Initialise le set des colonnes que doit contenir le fichier à tester\n",
    "features = {'diagonal', 'height_left', 'height_right', 'margin_low',\n",
    "            'margin_up', 'length', 'id'}\n",
    "\n",
    "# Importe le fichier CSV dans un DataFrame\n",
    "df = pd.read_csv(csv_files[j])\n",
    "\n",
    "# Crée un set avec le nom des colonnes du DataFrame\n",
    "df_features = set(df.columns)\n",
    "\n",
    "# Vérifie que les features nécessaires sont présentes\n",
    "if len(features - df_features) != 0:\n",
    "    raise Exception(\n",
    "        f'Impossible de tester le fichier, les variables suivantes sont '\n",
    "        f'manquantes : {list(features - df_features)}')\n",
    "\n",
    "# Vérifie qu'il n'y a pas de valeurs manquantes.\n",
    "elif df.isna().any().any():\n",
    "    raise Exception(\n",
    "        f'Impossible de tester le fichier, les variables suivantes ont '\n",
    "        f'des valeurs manquantes : {df.columns[df.isna().any()].to_list()}')\n",
    "\n",
    "# Effectue la prédiction\n",
    "else:\n",
    "    ids = df['id']\n",
    "    X = df.drop(columns='id')\n",
    "    y_pred = clf.predict(X)"
   ]
  },
  {
   "cell_type": "markdown",
   "id": "46281710",
   "metadata": {},
   "source": [
    "**Affichage des résultats :**\n"
   ]
  },
  {
   "cell_type": "code",
   "execution_count": 53,
   "id": "d4699e32",
   "metadata": {},
   "outputs": [
    {
     "name": "stdout",
     "output_type": "stream",
     "text": [
      "Id des faux billets détectés : ['A_1', 'A_2', 'A_3']\n",
      "\n",
      "Détails de la détection :\n",
      "\n",
      "    id  is_genuine  probability_estimates\n",
      "0  A_1       False               0.999734\n",
      "1  A_2       False               0.999966\n",
      "2  A_3       False               0.999961\n",
      "3  A_4        True               0.968823\n",
      "4  A_5        True               0.999984\n"
     ]
    }
   ],
   "source": [
    "# Crée un DataFrame contenant les résultats de la prédiction\n",
    "df_results = pd.DataFrame(\n",
    "    zip(ids, y_pred, clf.predict_proba(X)[:, 0], clf.predict_proba(X)[:, 1]),\n",
    "    columns=['id', 'is_genuine', 'prob_0', 'prob_1']\n",
    ")\n",
    "\n",
    "# Si y_pred contient des valeurs booléennes, pas besoin de mapper\n",
    "# Si y_pred contient 0/1, mappez-les\n",
    "if y_pred.dtype != bool:\n",
    "    df_results['is_genuine'] = df_results['is_genuine'].map({0: False, 1: True})\n",
    "# Calcul des estimations de probabilité\n",
    "df_results['probability_estimates'] = np.where(\n",
    "    df_results['is_genuine'], df_results['prob_1'], df_results['prob_0'])\n",
    "\n",
    "# Supprimez les colonnes inutiles\n",
    "df_results = df_results.drop(columns=['prob_0', 'prob_1'])\n",
    "\n",
    "\n",
    "# Affiche les résultats de la détection\n",
    "fake_banknote_list = list(df_results.loc[df_results['is_genuine'] == False, 'id'])\n",
    "\n",
    "if len(fake_banknote_list) == 0:\n",
    "    print('Aucun faux billet n\\'a été détecté.')\n",
    "else:\n",
    "    print(f'Id des faux billets détectés : {fake_banknote_list}\\n')\n",
    "    print('Détails de la détection :\\n')\n",
    "    print(df_results)\n"
   ]
  },
  {
   "cell_type": "code",
   "execution_count": 51,
   "id": "62049d60",
   "metadata": {},
   "outputs": [
    {
     "name": "stdout",
     "output_type": "stream",
     "text": [
      "Id des faux billets détectés : ['A_1', 'A_2', 'A_3']\n",
      "\n",
      "Détails de la détection :\n",
      "\n",
      "    id  billet_authentique  probability_estimates\n",
      "0  A_1               False               0.999734\n",
      "1  A_2               False               0.999966\n",
      "2  A_3               False               0.999961\n",
      "3  A_4                True               0.968823\n",
      "4  A_5                True               0.999984\n"
     ]
    }
   ],
   "source": [
    "# Crée un DataFrame contenant les résultats de la prédiction\n",
    "df_results = pd.DataFrame(\n",
    "    zip(ids, y_pred, clf.predict_proba(X)[:, 0], clf.predict_proba(X)[:, 1]),\n",
    "    columns=['id', 'is_genuine', 'prob_0', 'prob_1']\n",
    ")\n",
    "# Renommer la colonne 'is_genuine' en 'billet_authentique'\n",
    "df_results = df_results.rename(columns={'is_genuine': 'billet_authentique'})\n",
    "\n",
    "# Calcul des estimations de probabilité\n",
    "df_results['probability_estimates'] = np.where(\n",
    "    df_results['billet_authentique'], df_results['prob_1'], df_results['prob_0'])\n",
    "\n",
    "# Supprimez les colonnes inutiles\n",
    "df_results = df_results.drop(columns=['prob_0', 'prob_1'])\n",
    "\n",
    "# Affiche les résultats de la détection\n",
    "fake_banknote_list = list(df_results.loc[df_results['billet_authentique'] == False, 'id'])\n",
    "\n",
    "if len(fake_banknote_list) == 0:\n",
    "    print('Aucun faux billet n\\'a été détecté.')\n",
    "else:\n",
    "    print(f'Id des faux billets détectés : {fake_banknote_list}\\n')\n",
    "    print('Détails de la détection :\\n')\n",
    "    print(df_results)\n"
   ]
  }
 ],
 "metadata": {
  "kernelspec": {
   "display_name": "Python 3 (ipykernel)",
   "language": "python",
   "name": "python3"
  },
  "language_info": {
   "codemirror_mode": {
    "name": "ipython",
    "version": 3
   },
   "file_extension": ".py",
   "mimetype": "text/x-python",
   "name": "python",
   "nbconvert_exporter": "python",
   "pygments_lexer": "ipython3",
   "version": "3.11.5"
  },
  "toc": {
   "base_numbering": 1,
   "nav_menu": {},
   "number_sections": true,
   "sideBar": true,
   "skip_h1_title": false,
   "title_cell": "Table of Contents",
   "title_sidebar": "Contents",
   "toc_cell": false,
   "toc_position": {},
   "toc_section_display": true,
   "toc_window_display": false
  }
 },
 "nbformat": 4,
 "nbformat_minor": 5
}
